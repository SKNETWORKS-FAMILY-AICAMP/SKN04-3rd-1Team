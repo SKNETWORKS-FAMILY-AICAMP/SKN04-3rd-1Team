{
 "cells": [
  {
   "cell_type": "code",
   "execution_count": 13,
   "metadata": {},
   "outputs": [
    {
     "name": "stdout",
     "output_type": "stream",
     "text": [
      "Collecting jq\n",
      "  Downloading jq-1.8.0-cp310-cp310-macosx_10_9_x86_64.whl.metadata (7.0 kB)\n",
      "Downloading jq-1.8.0-cp310-cp310-macosx_10_9_x86_64.whl (416 kB)\n",
      "Installing collected packages: jq\n",
      "Successfully installed jq-1.8.0\n"
     ]
    }
   ],
   "source": [
    "!pip install jq"
   ]
  },
  {
   "cell_type": "code",
   "execution_count": 11,
   "metadata": {},
   "outputs": [
    {
     "name": "stderr",
     "output_type": "stream",
     "text": [
      "USER_AGENT environment variable not set, consider setting it to identify your requests.\n"
     ]
    }
   ],
   "source": [
    "import json\n",
    "import os\n",
    "from langchain_community.document_loaders import (\n",
    "    PyPDFLoader,\n",
    "    UnstructuredPDFLoader,\n",
    "    PyPDFium2Loader,\n",
    "    PDFMinerLoader,\n",
    "    PyPDFDirectoryLoader,\n",
    "    PDFPlumberLoader,\n",
    "    UnstructuredExcelLoader,\n",
    "    DataFrameLoader,\n",
    "    Docx2txtLoader,\n",
    "    UnstructuredWordDocumentLoader,\n",
    "    UnstructuredPowerPointLoader,\n",
    "    WebBaseLoader,\n",
    "    TextLoader,\n",
    "    DirectoryLoader,\n",
    "    JSONLoader,\n",
    "    ArxivLoader,\n",
    ")"
   ]
  },
  {
   "cell_type": "code",
   "execution_count": null,
   "metadata": {},
   "outputs": [],
   "source": [
    "# JSONLoader 클래스를 사용하여 './data/phone_numbers.json' 파일에서 데이터를 로드합니다.\n",
    "loader = JSONLoader(\n",
    "    file_path='/Users/macbook/Desktop/AI_edu/SKN04-3rd-1Team/data_preprocessing/data/book.json',  # 로드할 JSON 파일의 경로\n",
    "    jq_schema='.[].name',                    # JQ 쿼리를 사용하여 각 항목의 'name' 필드를 선택\n",
    "    text_content=False                       # 텍스트 내용은 로드하지 않도록 설정\n",
    ")\n",
    "\n",
    "# 설정된 로더를 사용하여 JSON 데이터를 로드합니다.\n",
    "loader.load()"
   ]
  },
  {
   "cell_type": "code",
   "execution_count": 39,
   "metadata": {},
   "outputs": [
    {
     "name": "stdout",
     "output_type": "stream",
     "text": [
      "graph_section_5.json 불러오기 완료.\n",
      "graph_section_6.json 불러오기 완료.\n",
      "graph_section_7.json 불러오기 완료.\n",
      "graph_section_8.json 불러오기 완료.\n",
      "graph_section_9.json 불러오기 완료.\n",
      "graph_section_10.json 불러오기 완료.\n",
      "graph_section_11.json 불러오기 완료.\n",
      "graph_section_12.json 불러오기 완료.\n",
      "graph_section_13.json 불러오기 완료.\n",
      "graph_section_14.json 불러오기 완료.\n",
      "graph_section_15.json 불러오기 완료.\n",
      "graph_section_16.json 불러오기 완료.\n",
      "graph_section_17.json 불러오기 완료.\n",
      "graph_section_18.json 불러오기 완료.\n",
      "graph_section_19.json 불러오기 완료.\n",
      "graph_section_20.json 불러오기 완료.\n",
      "graph_section_21.json 불러오기 완료.\n",
      "graph_section_22.json 불러오기 완료.\n",
      "graph_section_23.json 불러오기 완료.\n",
      "graph_section_24.json 불러오기 완료.\n",
      "graph_section_25.json 불러오기 완료.\n",
      "graph_section_26.json 불러오기 완료.\n",
      "graph_section_27.json 불러오기 완료.\n",
      "graph_section_28.json 불러오기 완료.\n",
      "graph_section_29.json 불러오기 완료.\n",
      "graph_section_30.json 불러오기 완료.\n",
      "graph_section_31.json 불러오기 완료.\n",
      "graph_section_32.json 불러오기 완료.\n",
      "graph_section_33.json 불러오기 완료.\n",
      "graph_section_34.json 불러오기 완료.\n",
      "graph_section_35.json 불러오기 완료.\n",
      "graph_section_36.json 불러오기 완료.\n",
      "graph_section_37.json 불러오기 완료.\n",
      "graph_section_38.json 불러오기 완료.\n",
      "graph_section_39.json 불러오기 완료.\n",
      "graph_section_40.json 불러오기 완료.\n",
      "graph_section_41.json 불러오기 완료.\n",
      "graph_section_42.json 불러오기 완료.\n",
      "graph_section_43.json 불러오기 완료.\n",
      "graph_section_44.json 불러오기 완료.\n",
      "graph_section_45.json 불러오기 완료.\n",
      "graph_section_46.json 불러오기 완료.\n",
      "graph_section_47.json 불러오기 완료.\n",
      "graph_section_48.json 불러오기 완료.\n",
      "graph_section_49.json 불러오기 완료.\n",
      "graph_section_50.json 불러오기 완료.\n",
      "graph_section_51.json 불러오기 완료.\n",
      "graph_section_52.json 불러오기 완료.\n",
      "graph_section_53.json 불러오기 완료.\n",
      "graph_section_54.json 불러오기 완료.\n",
      "graph_section_55.json 불러오기 완료.\n",
      "graph_section_56.json 불러오기 완료.\n",
      "graph_section_57.json 불러오기 완료.\n",
      "graph_section_58.json 불러오기 완료.\n",
      "graph_section_59.json 불러오기 완료.\n",
      "graph_section_60.json 불러오기 완료.\n",
      "graph_section_61.json 불러오기 완료.\n",
      "graph_section_62.json 불러오기 완료.\n",
      "graph_section_63.json 불러오기 완료.\n",
      "graph_section_64.json 불러오기 완료.\n",
      "graph_section_65.json 불러오기 완료.\n",
      "graph_section_66.json 불러오기 완료.\n",
      "graph_section_67.json 불러오기 완료.\n",
      "graph_section_68.json 불러오기 완료.\n",
      "graph_section_69.json 불러오기 완료.\n",
      "graph_section_70.json 불러오기 완료.\n"
     ]
    }
   ],
   "source": [
    "\n",
    "\n",
    "# JSON 파일들이 저장된 디렉토리 경로를 설정하세요\n",
    "directory = '/Users/macbook/Desktop/AI_edu/SKN04-3rd-1Team/data_preprocessing/data'  # 예: './data/json_files'\n",
    "\n",
    "# 모든 데이터를 저장할 리스트 초기화\n",
    "all_data = []\n",
    "\n",
    "# 1부터 70까지 반복\n",
    "for i in range(5, 71):\n",
    "    filename = f'graph_section_{i}.json'\n",
    "    filepath = os.path.join(directory, filename)\n",
    "    \n",
    "    # 파일이 존재하는지 확인\n",
    "    if os.path.exists(filepath):\n",
    "        with open(filepath, 'r', encoding='utf-8') as file:\n",
    "            try:\n",
    "                data = json.load(file)\n",
    "                all_data.extend(data['@graph'])\n",
    "                print(f'{filename} 불러오기 완료.')\n",
    "            except json.JSONDecodeError as e:\n",
    "                print(f'{filename}을(를) 로드하는 중 오류 발생: {e}')\n",
    "    else:\n",
    "        print(f'{filename} 파일이 존재하지 않습니다.')"
   ]
  },
  {
   "cell_type": "code",
   "execution_count": 38,
   "metadata": {},
   "outputs": [
    {
     "data": {
      "text/plain": [
       "12596"
      ]
     },
     "execution_count": 38,
     "metadata": {},
     "output_type": "execute_result"
    }
   ],
   "source": [
    "len(data['@graph'])"
   ]
  },
  {
   "cell_type": "code",
   "execution_count": 41,
   "metadata": {},
   "outputs": [
    {
     "data": {
      "text/plain": [
       "3260274"
      ]
     },
     "execution_count": 41,
     "metadata": {},
     "output_type": "execute_result"
    }
   ],
   "source": [
    "len(all_data)"
   ]
  },
  {
   "cell_type": "code",
   "execution_count": 10,
   "metadata": {},
   "outputs": [
    {
     "data": {
      "text/plain": [
       "'한국어\\n서울도서관\\n이용 안내\\n'"
      ]
     },
     "execution_count": 10,
     "metadata": {},
     "output_type": "execute_result"
    }
   ],
   "source": [
    "# PyPDF\n",
    "loader = PyPDFLoader('./data/libraryGuide_2024.pdf')\n",
    "documents = loader.load()     # 로드\n",
    "documents[0].page_content     # 출력"
   ]
  },
  {
   "cell_type": "code",
   "execution_count": null,
   "metadata": {},
   "outputs": [],
   "source": [
    "# PyPDF\n",
    "loader = PyPDFLoader('./data/libraryGuide_2024.pdf')\n",
    "documents = loader.load()     # 로드\n",
    "documents[0].page_content     # 출력\n",
    "\n",
    "# UnstructuredPDFLoader\n",
    "loader = UnstructuredPDFLoader('./data/libraryGuide_2024.pdf')\n",
    "documents = loader.load()\n",
    "documents[0].page_content     # 출력\n",
    "\n",
    "# PyPDFium2Loader\n",
    "loader = PyPDFium2Loader('./data/libraryGuide_2024.pdf')\n",
    "documents = loader.load()\n",
    "documents[0].page_content     # 출력\n",
    "\n",
    "# PDFMiner\n",
    "loader = PDFMiner('./data/libraryGuide_2024.pdf')\n",
    "documents = loader.load()\n",
    "documents[0].page_content     # 출력\n",
    "\n",
    "# PyPDFDirectoryLoader\n",
    "loader = PyPDFDirectoryLoader('./data/libraryGuide_2024.pdf')\n",
    "documents = loader.load()\n",
    "documents[0].page_content     # 출력\n",
    "\n",
    "# PDFPlumber\n",
    "loader = PDFPlumber('./data/libraryGuide_2024.pdf')\n",
    "documents = loader.load()\n",
    "documents[0].page_content     # 출력\n"
   ]
  }
 ],
 "metadata": {
  "kernelspec": {
   "display_name": "dl",
   "language": "python",
   "name": "python3"
  },
  "language_info": {
   "codemirror_mode": {
    "name": "ipython",
    "version": 3
   },
   "file_extension": ".py",
   "mimetype": "text/x-python",
   "name": "python",
   "nbconvert_exporter": "python",
   "pygments_lexer": "ipython3",
   "version": "3.10.15"
  }
 },
 "nbformat": 4,
 "nbformat_minor": 2
}
