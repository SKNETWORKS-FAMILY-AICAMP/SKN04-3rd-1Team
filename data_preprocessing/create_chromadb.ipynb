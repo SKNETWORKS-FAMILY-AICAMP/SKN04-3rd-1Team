{
 "cells": [
  {
   "cell_type": "code",
   "execution_count": null,
   "metadata": {},
   "outputs": [],
   "source": [
    "import json\n",
    "from langchain_chroma import Chroma\n",
    "from langchain_text_splitters import (\n",
    "    RecursiveJsonSplitter,\n",
    ")\n",
    "from langchain_openai.embeddings import OpenAIEmbeddings\n",
    "from dotenv import load_dotenv\n",
    "\n",
    "#전처리된 데이터 10개 약 20만 7천개\n",
    "#마지막 파일빼고는 24000개씩 데이터 적재\n",
    "load_dotenv()\n",
    "for i in range(1, 10):\n",
    "    print(i)\n",
    "    with open(f'./data/processed_merged_data{i}.json', 'r',  encoding='utf-8') as j:\n",
    "        data = json.load(j)\n",
    "    json_splitter = RecursiveJsonSplitter(max_chunk_size=1300)\n",
    "    documents = json_splitter.create_documents(texts=data, ensure_ascii=False)\n",
    "    db = Chroma.from_documents(\n",
    "        documents=documents,\n",
    "        embedding=OpenAIEmbeddings(model='text-embedding-3-small', show_progress_bar=True),\n",
    "        collection_name='books',\n",
    "        persist_directory='./db'\n",
    "    )\n",
    "    "
   ]
  }
 ],
 "metadata": {
  "kernelspec": {
   "display_name": "teamproject3",
   "language": "python",
   "name": "python3"
  },
  "language_info": {
   "name": "python",
   "version": "3.10.15"
  }
 },
 "nbformat": 4,
 "nbformat_minor": 2
}
