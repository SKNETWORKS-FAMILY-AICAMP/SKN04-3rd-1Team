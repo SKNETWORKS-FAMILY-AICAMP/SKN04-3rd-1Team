{
 "cells": [
  {
   "cell_type": "code",
   "execution_count": null,
   "metadata": {
    "vscode": {
     "languageId": "plaintext"
    }
   },
   "outputs": [],
   "source": [
    "import aiohttp\n",
    "import asyncio\n",
    "import urllib.parse\n",
    "import xml.etree.ElementTree as ET\n",
    "import json\n",
    "import nest_asyncio\n",
    "from tqdm.asyncio import tqdm_asyncio\n",
    "\n",
    "# nest_asyncio 적용\n",
    "nest_asyncio.apply()\n",
    "\n",
    "# 세마포어 설정: 동시 요청 수 제한\n",
    "semaphore = asyncio.Semaphore(2)\n",
    "\n",
    "# 상태 코드에 따른 재시도 처리 헬퍼 함수\n",
    "async def fetch_with_retry(session, url, headers, max_retries=5, retry_delay=2):\n",
    "    for attempt in range(max_retries):\n",
    "        async with session.get(url, headers=headers) as response:\n",
    "            if response.status == 200:\n",
    "                return await response.text()\n",
    "            else:\n",
    "                # print(f\"Error {response.status}: Retrying ({attempt + 1}/{max_retries}) for URL: {url}\")\n",
    "                # 재시도 사이의 지연 시간\n",
    "                await asyncio.sleep(retry_delay)\n",
    "    # 모든 재시도 실패 시 None 반환\n",
    "    print(f\"Failed to fetch data from {url} after {max_retries} attempts.\")\n",
    "    return None\n",
    "\n",
    "# 책 정보를 가져오는 함수\n",
    "async def get_book_content(title, publisher):\n",
    "    client_id = \"id\"\n",
    "    client_secret = \"secret\"\n",
    "    text = ' '.join([title, publisher])\n",
    "    encText = urllib.parse.quote(text)\n",
    "    url = f\"https://openapi.naver.com/v1/search/book_adv.xml?d_titl={encText}&display=100\"\n",
    "\n",
    "    headers = {\n",
    "        \"X-Naver-Client-Id\": client_id,\n",
    "        \"X-Naver-Client-Secret\": client_secret\n",
    "    }\n",
    "    \n",
    "    # 세마포어를 사용하여 동시 요청을 제어\n",
    "    async with semaphore:\n",
    "        async with aiohttp.ClientSession() as session:\n",
    "            body = await fetch_with_retry(session, url, headers)\n",
    "            if not body:  # 응답이 없을 경우 '응답없음' 반환\n",
    "                return '응답없음'\n",
    "            \n",
    "            root = ET.fromstring(body)\n",
    "            \n",
    "            if root.find('channel').find('total').text == '0':\n",
    "                return '없음'\n",
    "            \n",
    "            for item in root.find('channel').findall('item'):\n",
    "                if item.find('publisher').text == publisher:\n",
    "                    return item.find('description').text\n",
    "            \n",
    "            return '일치하지않음'\n",
    "\n",
    "# 여러 책의 정보를 비동기로 가져오는 예시 함수\n",
    "async def fetch_multiple_books(data):\n",
    "    tasks = [get_book_content(d.get('title'), d.get('publisher')) for d in data]\n",
    "    # tqdm_asyncio를 이용한 비동기 작업의 진행률 표시\n",
    "    results = await tqdm_asyncio.gather(*tasks, desc=\"Fetching book data\", total=len(data))\n",
    "    for d, content in zip(data, results):\n",
    "        if content in ['응답없음', '없음', '일치하지않음']:\n",
    "            d['content'] = '없음'\n",
    "        else:\n",
    "            d['content'] = content\n",
    "    return data\n"
   ]
  },
  {
   "cell_type": "code",
   "execution_count": null,
   "metadata": {
    "vscode": {
     "languageId": "plaintext"
    }
   },
   "outputs": [],
   "source": [
    "# 파일 열기 및 데이터 로드\n",
    "with open('./merged_data5.json', 'r', encoding='utf-8') as file:\n",
    "    data = json.load(file)\n",
    "\n",
    "# 이벤트 루프 실행\n",
    "result = asyncio.run(fetch_multiple_books(data))\n",
    "\n",
    "# 파일 저장\n",
    "with open('./processed_merged_data5.json', 'w', encoding='utf-8') as file:\n",
    "    json.dump(result, file, ensure_ascii=False, indent=4)"
   ]
  }
 ],
 "metadata": {
  "language_info": {
   "name": "python"
  }
 },
 "nbformat": 4,
 "nbformat_minor": 2
}
